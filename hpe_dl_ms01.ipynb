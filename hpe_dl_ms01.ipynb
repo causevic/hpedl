{
  "nbformat": 4,
  "nbformat_minor": 0,
  "metadata": {
    "colab": {
      "name": "hpe-dl-ms01.ipynb",
      "provenance": [],
      "collapsed_sections": [],
      "authorship_tag": "ABX9TyPI0rcVhJfzorpHBNM1PTG0",
      "include_colab_link": true
    },
    "kernelspec": {
      "name": "python3",
      "display_name": "Python 3"
    },
    "accelerator": "GPU"
  },
  "cells": [
    {
      "cell_type": "markdown",
      "metadata": {
        "id": "view-in-github",
        "colab_type": "text"
      },
      "source": [
        "<a href=\"https://colab.research.google.com/github/causevic/hpedl/blob/master/hpe_dl_ms01.ipynb\" target=\"_parent\"><img src=\"https://colab.research.google.com/assets/colab-badge.svg\" alt=\"Open In Colab\"/></a>"
      ]
    },
    {
      "cell_type": "code",
      "metadata": {
        "id": "kPtqlLiyWNeW",
        "colab_type": "code",
        "colab": {}
      },
      "source": [
        "# !wget http://ufldl.stanford.edu/housenumbers/train_32x32.mat\n",
        "# !wget http://ufldl.stanford.edu/housenumbers/test_32x32.mat\n",
        "\n",
        "from scipy.io import loadmat\n",
        "train = loadmat('train_32x32.mat')\n",
        "test = loadmat('test_32x32.mat')\n"
      ],
      "execution_count": 0,
      "outputs": []
    },
    {
      "cell_type": "code",
      "metadata": {
        "id": "qxBuARhRZHCb",
        "colab_type": "code",
        "outputId": "ce5de5ec-7f3a-4b34-e90a-fe147d1896f8",
        "colab": {
          "base_uri": "https://localhost:8080/",
          "height": 34
        }
      },
      "source": [
        "print(test.keys())"
      ],
      "execution_count": 0,
      "outputs": [
        {
          "output_type": "stream",
          "text": [
            "dict_keys(['__header__', '__version__', '__globals__', 'X', 'y'])\n"
          ],
          "name": "stdout"
        }
      ]
    },
    {
      "cell_type": "code",
      "metadata": {
        "id": "VIhKgAUeZJSC",
        "colab_type": "code",
        "outputId": "5d9fa80b-42ed-4822-8178-dfac30276197",
        "colab": {
          "base_uri": "https://localhost:8080/",
          "height": 34
        }
      },
      "source": [
        "print(test['X'].shape)  "
      ],
      "execution_count": 0,
      "outputs": [
        {
          "output_type": "stream",
          "text": [
            "(32, 32, 3, 26032)\n"
          ],
          "name": "stdout"
        }
      ]
    },
    {
      "cell_type": "code",
      "metadata": {
        "id": "iHyxvm63ZP6f",
        "colab_type": "code",
        "outputId": "3cdda1c4-0e8d-4bb0-cda6-e3c1a80b0347",
        "colab": {
          "base_uri": "https://localhost:8080/",
          "height": 34
        }
      },
      "source": [
        "print(test['y'].shape)"
      ],
      "execution_count": 0,
      "outputs": [
        {
          "output_type": "stream",
          "text": [
            "(26032, 1)\n"
          ],
          "name": "stdout"
        }
      ]
    },
    {
      "cell_type": "code",
      "metadata": {
        "id": "Ty2hbUZyZZqK",
        "colab_type": "code",
        "outputId": "997e9005-6df9-41f0-b14a-554093a627b8",
        "colab": {
          "base_uri": "https://localhost:8080/",
          "height": 34
        }
      },
      "source": [
        "type(train['X'])"
      ],
      "execution_count": 0,
      "outputs": [
        {
          "output_type": "execute_result",
          "data": {
            "text/plain": [
              "numpy.ndarray"
            ]
          },
          "metadata": {
            "tags": []
          },
          "execution_count": 10
        }
      ]
    },
    {
      "cell_type": "code",
      "metadata": {
        "id": "n6SLQ0GwZfVK",
        "colab_type": "code",
        "outputId": "183163ea-bd5f-419f-bc19-39c7cf7c1725",
        "colab": {
          "base_uri": "https://localhost:8080/",
          "height": 187
        }
      },
      "source": [
        "print(test['y'][:10])"
      ],
      "execution_count": 0,
      "outputs": [
        {
          "output_type": "stream",
          "text": [
            "[[ 5]\n",
            " [ 2]\n",
            " [ 1]\n",
            " [10]\n",
            " [ 6]\n",
            " [ 1]\n",
            " [ 9]\n",
            " [ 1]\n",
            " [ 1]\n",
            " [ 8]]\n"
          ],
          "name": "stdout"
        }
      ]
    },
    {
      "cell_type": "code",
      "metadata": {
        "id": "QTY7ea6MZraN",
        "colab_type": "code",
        "colab": {}
      },
      "source": [
        "import numpy as np\n",
        "\n",
        "X_train = train['X']\n",
        "y_train = train['y']\n",
        "X_test  = test['X']\n",
        "y_test  = test['y']\n",
        "\n",
        "y_train = np.where(y_train== 10, 0, y_train)\n",
        "y_test  = np.where(y_test == 10, 0, y_test)"
      ],
      "execution_count": 0,
      "outputs": []
    },
    {
      "cell_type": "code",
      "metadata": {
        "id": "sF-gxqo-aPNk",
        "colab_type": "code",
        "outputId": "0ba94957-0e5a-40cb-c4f1-1bd693280fe8",
        "colab": {
          "base_uri": "https://localhost:8080/",
          "height": 357
        }
      },
      "source": [
        "print(y_test[:20])"
      ],
      "execution_count": 0,
      "outputs": [
        {
          "output_type": "stream",
          "text": [
            "[[5]\n",
            " [2]\n",
            " [1]\n",
            " [0]\n",
            " [6]\n",
            " [1]\n",
            " [9]\n",
            " [1]\n",
            " [1]\n",
            " [8]\n",
            " [3]\n",
            " [6]\n",
            " [5]\n",
            " [1]\n",
            " [4]\n",
            " [4]\n",
            " [1]\n",
            " [6]\n",
            " [3]\n",
            " [4]]\n"
          ],
          "name": "stdout"
        }
      ]
    },
    {
      "cell_type": "code",
      "metadata": {
        "id": "ql75RI-jaWhH",
        "colab_type": "code",
        "outputId": "cc34e737-8b02-41d2-944f-fe4e22514b55",
        "colab": {
          "base_uri": "https://localhost:8080/",
          "height": 442
        }
      },
      "source": [
        "X_train[0]"
      ],
      "execution_count": 0,
      "outputs": [
        {
          "output_type": "execute_result",
          "data": {
            "text/plain": [
              "array([[[ 33,  84,  19, ...,  92, 190, 216],\n",
              "        [ 30,  76,  54, ...,  78, 188, 217],\n",
              "        [ 38,  59, 110, ..., 101, 191, 212]],\n",
              "\n",
              "       [[ 15,  86,  20, ...,  94, 205, 221],\n",
              "        [ 23,  73,  52, ...,  82, 203, 222],\n",
              "        [ 19,  66, 111, ..., 105, 206, 217]],\n",
              "\n",
              "       [[ 15,  77,  25, ..., 114, 220, 226],\n",
              "        [ 17,  78,  57, ..., 101, 218, 227],\n",
              "        [ 19,  56, 116, ..., 125, 220, 221]],\n",
              "\n",
              "       ...,\n",
              "\n",
              "       [[ 72,  90,  65, ..., 200, 229, 200],\n",
              "        [ 65,  78, 144, ..., 201, 231, 199],\n",
              "        [ 56,  69, 223, ..., 203, 224, 191]],\n",
              "\n",
              "       [[ 82,  88,  78, ..., 192, 229, 193],\n",
              "        [ 77,  77, 148, ..., 193, 229, 188],\n",
              "        [ 57,  67, 218, ..., 195, 224, 182]],\n",
              "\n",
              "       [[ 89,  88,  98, ..., 190, 229, 197],\n",
              "        [ 79,  78, 158, ..., 191, 228, 189],\n",
              "        [ 59,  66, 220, ..., 193, 223, 186]]], dtype=uint8)"
            ]
          },
          "metadata": {
            "tags": []
          },
          "execution_count": 18
        }
      ]
    },
    {
      "cell_type": "code",
      "metadata": {
        "id": "xTxUQPs7a95w",
        "colab_type": "code",
        "outputId": "95070783-2295-4543-869d-2fa6bd6ca5e9",
        "colab": {
          "base_uri": "https://localhost:8080/",
          "height": 317
        }
      },
      "source": [
        "import matplotlib.pyplot as plt\n",
        "\n",
        "print(f'Digit label: {y_train[0]}')\n",
        "plt.imshow(X_train[:,:,:,0])\n"
      ],
      "execution_count": 0,
      "outputs": [
        {
          "output_type": "stream",
          "text": [
            "Digit label: [1]\n",
            "Digit label: [1]\n"
          ],
          "name": "stdout"
        },
        {
          "output_type": "execute_result",
          "data": {
            "text/plain": [
              "<matplotlib.image.AxesImage at 0x7f85e3b15ef0>"
            ]
          },
          "metadata": {
            "tags": []
          },
          "execution_count": 25
        },
        {
          "output_type": "display_data",
          "data": {
            "image/png": "[encoded data removed]",
            "text/plain": [
              "<Figure size 432x288 with 1 Axes>"
            ]
          },
          "metadata": {
            "tags": [],
            "needs_background": "light"
          }
        }
      ]
    },
    {
      "cell_type": "code",
      "metadata": {
        "id": "9s-kbCnub1_Y",
        "colab_type": "code",
        "outputId": "9b1bec26-f30b-4874-9aa6-d47b750e2055",
        "colab": {
          "base_uri": "https://localhost:8080/",
          "height": 300
        }
      },
      "source": [
        "print(f'Digit label: {y_train[32]}')\n",
        "plt.imshow(X_train[:,:,:,32])"
      ],
      "execution_count": 0,
      "outputs": [
        {
          "output_type": "stream",
          "text": [
            "Digit label: [2]\n"
          ],
          "name": "stdout"
        },
        {
          "output_type": "execute_result",
          "data": {
            "text/plain": [
              "<matplotlib.image.AxesImage at 0x7f85e39e4668>"
            ]
          },
          "metadata": {
            "tags": []
          },
          "execution_count": 27
        },
        {
          "output_type": "display_data",
          "data": {
            "image/png": "[encoded data removed]",
            "text/plain": [
              "<Figure size 432x288 with 1 Axes>"
            ]
          },
          "metadata": {
            "tags": [],
            "needs_background": "light"
          }
        }
      ]
    },
    {
      "cell_type": "code",
      "metadata": {
        "id": "mTx_vfkJchij",
        "colab_type": "code",
        "outputId": "726b94fe-9cfe-4dcb-a541-3319d1cfc503",
        "colab": {
          "base_uri": "https://localhost:8080/",
          "height": 300
        }
      },
      "source": [
        "print(f'Digit label: {y_train[4000]}')\n",
        "plt.imshow(X_train[:,:,:,4000])"
      ],
      "execution_count": 0,
      "outputs": [
        {
          "output_type": "stream",
          "text": [
            "Digit label: [3]\n"
          ],
          "name": "stdout"
        },
        {
          "output_type": "execute_result",
          "data": {
            "text/plain": [
              "<matplotlib.image.AxesImage at 0x7f85e39cf400>"
            ]
          },
          "metadata": {
            "tags": []
          },
          "execution_count": 28
        },
        {
          "output_type": "display_data",
          "data": {
            "image/png": "[encoded data removed]",
            "text/plain": [
              "<Figure size 432x288 with 1 Axes>"
            ]
          },
          "metadata": {
            "tags": [],
            "needs_background": "light"
          }
        }
      ]
    },
    {
      "cell_type": "code",
      "metadata": {
        "id": "gywj6nr6cqui",
        "colab_type": "code",
        "colab": {}
      },
      "source": [
        ""
      ],
      "execution_count": 0,
      "outputs": []
    }
  ]
}